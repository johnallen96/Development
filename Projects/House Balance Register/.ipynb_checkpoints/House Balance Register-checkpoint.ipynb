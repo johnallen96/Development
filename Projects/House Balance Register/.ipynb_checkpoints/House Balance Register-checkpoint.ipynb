{
 "cells": [
  {
   "cell_type": "markdown",
   "metadata": {},
   "source": [
    "# House Balance Register"
   ]
  },
  {
   "cell_type": "markdown",
   "metadata": {},
   "source": [
    "## All Costs and Funds"
   ]
  },
  {
   "cell_type": "code",
   "execution_count": 2,
   "metadata": {},
   "outputs": [
    {
     "name": "stdout",
     "output_type": "stream",
     "text": [
      "Total mortgage cost is $22977.38\n",
      "Total house cost is $6954\n",
      "Total funds required is $29931.38\n"
     ]
    }
   ],
   "source": [
    "# Cost Dictionaries\n",
    "mortgage_costs = {\n",
    "    \"Deposit\": 20700,\n",
    "    \"Conveyancing\": 1200,\n",
    "    \"Bank Fees\": 1077.38\n",
    "}\n",
    "house_costs = {\n",
    "    \"Couch\": 3000,\n",
    "    \"Bed\": 2100,\n",
    "    \"Building & Pest\": 550,\n",
    "    \"Bond Clean\": 597,\n",
    "    \"Break Lease Fee\": 575,\n",
    "    \"Movers\": 132\n",
    "}\n",
    "\n",
    "# Ashleigh separate costs\n",
    "ash_blfee = 278.75\n",
    "\n",
    "# Ashleigh funds\n",
    "ash_funds = 9000\n",
    "\n",
    "# Cost Totals\n",
    "mortgage_costs_total = sum(mortgage_costs.values())\n",
    "house_costs_total = sum(house_costs.values())\n",
    "total_required = (mortgage_costs_total + house_costs_total)\n",
    "\n",
    "print(f\"Total mortgage cost is ${mortgage_costs_total}\")\n",
    "print(f\"Total house cost is ${house_costs_total}\")\n",
    "print(f\"Total funds required is ${total_required}\")"
   ]
  },
  {
   "cell_type": "markdown",
   "metadata": {},
   "source": [
    "## Ashleigh Payback Calculation"
   ]
  },
  {
   "cell_type": "code",
   "execution_count": 3,
   "metadata": {},
   "outputs": [
    {
     "name": "stdout",
     "output_type": "stream",
     "text": [
      "Ashleigh owes $11488 in mortgage costs\n",
      "Ashleigh owes $3468 in house costs\n",
      "Ashleigh will owe John a payback total of $5956\n"
     ]
    }
   ],
   "source": [
    "# Assign keys to be excluded\n",
    "excluded = {\"Break Lease Fee\"}\n",
    "\n",
    "# Create function to exclude keys from dictionary\n",
    "def without_keys(d, keys):\n",
    "    return {x: d[x] for x in d if x not in keys}\n",
    "\n",
    "# Create exclusion dictionary\n",
    "excluded_house_costs = (without_keys(house_costs, excluded))\n",
    "\n",
    "# Half all values in dictionary\n",
    "for key in excluded_house_costs:\n",
    "    excluded_house_costs[key] = (excluded_house_costs[key] / 2)\n",
    "\n",
    "# Calculate Ash total mortgage and house costs\n",
    "ash_mortgage_costs_total = int((mortgage_costs_total/2))\n",
    "ash_house_costs_total = int(sum(excluded_house_costs.values()) + ash_blfee)\n",
    "\n",
    "# Calculate Ash payback balance after all costs \n",
    "ash_balance = (((ash_funds - ash_mortgage_costs_total) - ash_house_costs_total)*-1)\n",
    "\n",
    "print(f\"Ashleigh owes ${ash_mortgage_costs_total} in mortgage costs\")\n",
    "print(f\"Ashleigh owes ${ash_house_costs_total} in house costs\")\n",
    "print(f\"Ashleigh will owe John a payback total of ${ash_balance}\")\n"
   ]
  },
  {
   "cell_type": "markdown",
   "metadata": {},
   "source": [
    "## John Funds Required"
   ]
  },
  {
   "cell_type": "code",
   "execution_count": 4,
   "metadata": {},
   "outputs": [
    {
     "name": "stdout",
     "output_type": "stream",
     "text": [
      "John will require a total of $20931 in required funds\n"
     ]
    }
   ],
   "source": [
    "# Calculate total John funds required\n",
    "john_total_required = int((total_required - ash_funds))\n",
    "print(f\"John will require a total of ${john_total_required} in required funds\")"
   ]
  },
  {
   "cell_type": "code",
   "execution_count": null,
   "metadata": {},
   "outputs": [],
   "source": []
  },
  {
   "cell_type": "code",
   "execution_count": null,
   "metadata": {},
   "outputs": [],
   "source": []
  }
 ],
 "metadata": {
  "kernelspec": {
   "display_name": "Python 3",
   "language": "python",
   "name": "python3"
  },
  "language_info": {
   "codemirror_mode": {
    "name": "ipython",
    "version": 3
   },
   "file_extension": ".py",
   "mimetype": "text/x-python",
   "name": "python",
   "nbconvert_exporter": "python",
   "pygments_lexer": "ipython3",
   "version": "3.8.3"
  }
 },
 "nbformat": 4,
 "nbformat_minor": 4
}
